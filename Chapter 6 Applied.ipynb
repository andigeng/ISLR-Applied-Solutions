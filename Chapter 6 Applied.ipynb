{
 "cells": [
  {
   "cell_type": "markdown",
   "metadata": {},
   "source": [
    "# 8. a)"
   ]
  },
  {
   "cell_type": "code",
   "execution_count": 28,
   "metadata": {
    "collapsed": true
   },
   "outputs": [],
   "source": [
    "set.seed(1)\n",
    "X <- rnorm(100)\n",
    "eps <- rnorm(100)"
   ]
  },
  {
   "cell_type": "markdown",
   "metadata": {},
   "source": [
    "# 8. b)"
   ]
  },
  {
   "cell_type": "code",
   "execution_count": 29,
   "metadata": {
    "collapsed": false
   },
   "outputs": [],
   "source": [
    "b0 <- 1\n",
    "b1 <- 2\n",
    "b2 <- 3\n",
    "b3 <- 4\n",
    "Y <- b0 + b1*x + b2*x^2 + b3*x^3 + eps"
   ]
  },
  {
   "cell_type": "markdown",
   "metadata": {},
   "source": [
    "# 8. c)"
   ]
  },
  {
   "cell_type": "code",
   "execution_count": 30,
   "metadata": {
    "collapsed": false
   },
   "outputs": [
    {
     "data": {
      "text/plain": [
       "       Length Class      Mode     \n",
       "which  110    -none-     logical  \n",
       "rsq     10    -none-     numeric  \n",
       "rss     10    -none-     numeric  \n",
       "adjr2   10    -none-     numeric  \n",
       "cp      10    -none-     numeric  \n",
       "bic     10    -none-     numeric  \n",
       "outmat 100    -none-     character\n",
       "obj     28    regsubsets list     "
      ]
     },
     "metadata": {},
     "output_type": "display_data"
    },
    {
     "data": {
      "image/png": "[encoded data removed]",
      "text/plain": [
       "plot without title"
      ]
     },
     "metadata": {
      "image/svg+xml": {
       "isolated": true
      }
     },
     "output_type": "display_data"
    }
   ],
   "source": [
    "library(leaps)\n",
    "xy <- data.frame(Y,X)\n",
    "xy.fits <- regsubsets(y~poly(x,10), data=xy, nvmax=10)\n",
    "xy.fits.summ <- summary(xy.fits)\n",
    "summary(xy.fits.summ)\n",
    "\n",
    "par(mfrow=c(2,2))\n",
    "plot(xy.fits.summ$cp, xlab=\"Number of Variables\", ylab=\"C_p\", type=\"l\")\n",
    "plot(xy.fits.summ$bic, xlab=\"Number of Variables\", ylab=\"BIC\", type=\"l\")\n",
    "plot(xy.fits.summ$adjr2, xlab=\"Number of Variables\", ylab=\"Adjusted R^2\", type=\"l\")"
   ]
  },
  {
   "cell_type": "markdown",
   "metadata": {},
   "source": [
    "All three criterion seem to agree that the optimal number of variables is about 3."
   ]
  },
  {
   "cell_type": "code",
   "execution_count": 41,
   "metadata": {
    "collapsed": false
   },
   "outputs": [
    {
     "data": {
      "text/plain": [
       "Subset selection object\n",
       "Call: regsubsets.formula(y ~ poly(x, 10), data = xy, nvmax = 10)\n",
       "10 Variables  (and intercept)\n",
       "              Forced in Forced out\n",
       "poly(x, 10)1      FALSE      FALSE\n",
       "poly(x, 10)2      FALSE      FALSE\n",
       "poly(x, 10)3      FALSE      FALSE\n",
       "poly(x, 10)4      FALSE      FALSE\n",
       "poly(x, 10)5      FALSE      FALSE\n",
       "poly(x, 10)6      FALSE      FALSE\n",
       "poly(x, 10)7      FALSE      FALSE\n",
       "poly(x, 10)8      FALSE      FALSE\n",
       "poly(x, 10)9      FALSE      FALSE\n",
       "poly(x, 10)10     FALSE      FALSE\n",
       "1 subsets of each size up to 10\n",
       "Selection Algorithm: exhaustive\n",
       "          poly(x, 10)1 poly(x, 10)2 poly(x, 10)3 poly(x, 10)4 poly(x, 10)5\n",
       "1  ( 1 )  \"*\"          \" \"          \" \"          \" \"          \" \"         \n",
       "2  ( 1 )  \"*\"          \" \"          \"*\"          \" \"          \" \"         \n",
       "3  ( 1 )  \"*\"          \"*\"          \"*\"          \" \"          \" \"         \n",
       "4  ( 1 )  \"*\"          \"*\"          \"*\"          \" \"          \"*\"         \n",
       "5  ( 1 )  \"*\"          \"*\"          \"*\"          \"*\"          \"*\"         \n",
       "6  ( 1 )  \"*\"          \"*\"          \"*\"          \"*\"          \"*\"         \n",
       "7  ( 1 )  \"*\"          \"*\"          \"*\"          \"*\"          \"*\"         \n",
       "8  ( 1 )  \"*\"          \"*\"          \"*\"          \"*\"          \"*\"         \n",
       "9  ( 1 )  \"*\"          \"*\"          \"*\"          \"*\"          \"*\"         \n",
       "10  ( 1 ) \"*\"          \"*\"          \"*\"          \"*\"          \"*\"         \n",
       "          poly(x, 10)6 poly(x, 10)7 poly(x, 10)8 poly(x, 10)9 poly(x, 10)10\n",
       "1  ( 1 )  \" \"          \" \"          \" \"          \" \"          \" \"          \n",
       "2  ( 1 )  \" \"          \" \"          \" \"          \" \"          \" \"          \n",
       "3  ( 1 )  \" \"          \" \"          \" \"          \" \"          \" \"          \n",
       "4  ( 1 )  \" \"          \" \"          \" \"          \" \"          \" \"          \n",
       "5  ( 1 )  \" \"          \" \"          \" \"          \" \"          \" \"          \n",
       "6  ( 1 )  \" \"          \" \"          \" \"          \" \"          \"*\"          \n",
       "7  ( 1 )  \" \"          \"*\"          \" \"          \" \"          \"*\"          \n",
       "8  ( 1 )  \" \"          \"*\"          \" \"          \"*\"          \"*\"          \n",
       "9  ( 1 )  \"*\"          \"*\"          \" \"          \"*\"          \"*\"          \n",
       "10  ( 1 ) \"*\"          \"*\"          \"*\"          \"*\"          \"*\"          "
      ]
     },
     "metadata": {},
     "output_type": "display_data"
    }
   ],
   "source": [
    "summary(xy.fits)"
   ]
  },
  {
   "cell_type": "code",
   "execution_count": 32,
   "metadata": {
    "collapsed": false,
    "scrolled": true
   },
   "outputs": [
    {
     "data": {
      "text/html": [
       "<dl class=dl-horizontal>\n",
       "\t<dt>(Intercept)</dt>\n",
       "\t\t<dd>4.45416248284337</dd>\n",
       "\t<dt>poly(x, 10)1</dt>\n",
       "\t\t<dd>108.363597525212</dd>\n",
       "\t<dt>poly(x, 10)2</dt>\n",
       "\t\t<dd>45.0438133671403</dd>\n",
       "\t<dt>poly(x, 10)3</dt>\n",
       "\t\t<dd>60.1568606383194</dd>\n",
       "</dl>\n"
      ],
      "text/latex": [
       "\\begin{description*}\n",
       "\\item[(Intercept)] 4.45416248284337\n",
       "\\item[poly(x, 10)1] 108.363597525212\n",
       "\\item[poly(x, 10)2] 45.0438133671403\n",
       "\\item[poly(x, 10)3] 60.1568606383194\n",
       "\\end{description*}\n"
      ],
      "text/markdown": [
       "(Intercept)\n",
       ":   4.45416248284337poly(x, 10)1\n",
       ":   108.363597525212poly(x, 10)2\n",
       ":   45.0438133671403poly(x, 10)3\n",
       ":   60.1568606383194\n",
       "\n"
      ],
      "text/plain": [
       " (Intercept) poly(x, 10)1 poly(x, 10)2 poly(x, 10)3 \n",
       "    4.454162   108.363598    45.043813    60.156861 "
      ]
     },
     "metadata": {},
     "output_type": "display_data"
    }
   ],
   "source": [
    "coef(xy.fits, id=3)"
   ]
  },
  {
   "cell_type": "code",
   "execution_count": null,
   "metadata": {
    "collapsed": true
   },
   "outputs": [],
   "source": []
  },
  {
   "cell_type": "code",
   "execution_count": null,
   "metadata": {
    "collapsed": true
   },
   "outputs": [],
   "source": []
  },
  {
   "cell_type": "code",
   "execution_count": null,
   "metadata": {
    "collapsed": true
   },
   "outputs": [],
   "source": []
  },
  {
   "cell_type": "code",
   "execution_count": null,
   "metadata": {
    "collapsed": true
   },
   "outputs": [],
   "source": []
  },
  {
   "cell_type": "code",
   "execution_count": null,
   "metadata": {
    "collapsed": true
   },
   "outputs": [],
   "source": []
  },
  {
   "cell_type": "code",
   "execution_count": null,
   "metadata": {
    "collapsed": true
   },
   "outputs": [],
   "source": []
  },
  {
   "cell_type": "code",
   "execution_count": null,
   "metadata": {
    "collapsed": true
   },
   "outputs": [],
   "source": []
  },
  {
   "cell_type": "code",
   "execution_count": null,
   "metadata": {
    "collapsed": true
   },
   "outputs": [],
   "source": []
  },
  {
   "cell_type": "code",
   "execution_count": null,
   "metadata": {
    "collapsed": true
   },
   "outputs": [],
   "source": []
  },
  {
   "cell_type": "code",
   "execution_count": null,
   "metadata": {
    "collapsed": true
   },
   "outputs": [],
   "source": []
  },
  {
   "cell_type": "code",
   "execution_count": null,
   "metadata": {
    "collapsed": true
   },
   "outputs": [],
   "source": []
  },
  {
   "cell_type": "code",
   "execution_count": null,
   "metadata": {
    "collapsed": true
   },
   "outputs": [],
   "source": []
  }
 ],
 "metadata": {
  "anaconda-cloud": {},
  "kernelspec": {
   "display_name": "R",
   "language": "R",
   "name": "ir"
  },
  "language_info": {
   "codemirror_mode": "r",
   "file_extension": ".r",
   "mimetype": "text/x-r-source",
   "name": "R",
   "pygments_lexer": "r",
   "version": "3.3.1"
  }
 },
 "nbformat": 4,
 "nbformat_minor": 0
}
